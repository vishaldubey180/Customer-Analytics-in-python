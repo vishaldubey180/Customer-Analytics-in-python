{
 "cells": [
  {
   "cell_type": "markdown",
   "metadata": {},
   "source": [
    "# Customer Analytics In Python"
   ]
  },
  {
   "cell_type": "markdown",
   "metadata": {},
   "source": [
    "we will learn below topics"
   ]
  },
  {
   "cell_type": "markdown",
   "metadata": {},
   "source": [
    "- **Relevant Theory**\n",
    "\n",
    "(to start customer analytics\n",
    "- **Cluster analysis and dimensionality reduction**\n",
    "(it helps us to segemnt the customer)\n",
    "- **Descriptive Statistics**\n",
    "(an exploratory part of analysis\n",
    "- **Elasticity modeling**\n",
    "(for purchase probability,brand choice and purchase quantity)\n",
    "- deep learning (to predict future behaiour)"
   ]
  }
 ],
 "metadata": {
  "kernelspec": {
   "display_name": "Python 3",
   "language": "python",
   "name": "python3"
  },
  "language_info": {
   "codemirror_mode": {
    "name": "ipython",
    "version": 3
   },
   "file_extension": ".py",
   "mimetype": "text/x-python",
   "name": "python",
   "nbconvert_exporter": "python",
   "pygments_lexer": "ipython3",
   "version": "3.7.4"
  }
 },
 "nbformat": 4,
 "nbformat_minor": 2
}
